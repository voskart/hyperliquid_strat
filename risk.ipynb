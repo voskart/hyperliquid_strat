{
 "cells": [
  {
   "cell_type": "markdown",
   "metadata": {},
   "source": [
    "# Risk Framework\n",
    "\n",
    "Generally, we can categorize between systematic and unsystematic risk. Systematic risk generally refers to events affecting the overall market, whereas unsystematic risk refers to our implemented strategy.\n",
    "\n",
    "### Systematic Risk\n",
    "\n",
    "When it comes to systematic risk, or market risk, we cannot reduce this risk by diversifying our portfolio. Given that our strategy is market-neutral, the risk is somewhat reduced as in the case of the overall market breakdown, we would still be hedged on the downside. \n",
    "\n",
    "One way to measure said risk is by leveraging the Value at Risk (VaR) statistic, which calculates the maximum potential loss a portfolio could experience within a given time frame.\n"
   ]
  },
  {
   "cell_type": "code",
   "execution_count": 60,
   "metadata": {},
   "outputs": [
    {
     "name": "stdout",
     "output_type": "stream",
     "text": [
      "The VaR on a daily basis for our strategy is $1447.92 with a 99% confidence\n"
     ]
    }
   ],
   "source": [
    "import pandas as pd\n",
    "import numpy as np\n",
    "from scipy.stats import norm\n",
    "\n",
    "df = pd.read_csv(\"returns.csv\")\n",
    "df = df.fillna(0)\n",
    "# get daily returns\n",
    "df_daily_returns = df.groupby(pd.to_datetime(df[\"date_close\"]).dt.floor(\"d\"))[\"Returns\"].sum()\n",
    "\n",
    "# 100,000 USD portfolio\n",
    "value = 100000\n",
    "mu = np.mean(df_daily_returns)\n",
    "sigma = np.std(df_daily_returns)\n",
    "alpha = norm.ppf(1-0.99, mu, sigma)\n",
    "\n",
    "print(f\"The VaR on a daily basis for our strategy is ${value-value*(alpha+1):2.2f} with a 99% confidence\")"
   ]
  },
  {
   "cell_type": "markdown",
   "metadata": {},
   "source": [
    "\n",
    "### Unsystematic Risk\n",
    "\n",
    "Unsystematic risk refers to the risks directly associated with the sub-sector or assets at hand. In our case, these would be in direct relationship to our pair-trading strategy.\n",
    "\n",
    "#### Maximum Drawdown\n",
    "\n",
    "We can assess the maximum drawdown of our strategy the following way. "
   ]
  },
  {
   "cell_type": "code",
   "execution_count": null,
   "metadata": {},
   "outputs": [],
   "source": []
  },
  {
   "cell_type": "markdown",
   "metadata": {},
   "source": [
    "#### Funding Rate Fluctuations\n",
    "\n",
    "#### Correlation/Co-Integration breakdown\n",
    "\n",
    "#### Margin Requirements\n",
    "\n",
    "#### Risk-adjusted Returns"
   ]
  }
 ],
 "metadata": {
  "kernelspec": {
   "display_name": ".venv",
   "language": "python",
   "name": "python3"
  },
  "language_info": {
   "codemirror_mode": {
    "name": "ipython",
    "version": 3
   },
   "file_extension": ".py",
   "mimetype": "text/x-python",
   "name": "python",
   "nbconvert_exporter": "python",
   "pygments_lexer": "ipython3",
   "version": "3.11.5"
  }
 },
 "nbformat": 4,
 "nbformat_minor": 2
}
