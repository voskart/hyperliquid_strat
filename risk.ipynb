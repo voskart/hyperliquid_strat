{
 "cells": [
  {
   "cell_type": "markdown",
   "metadata": {},
   "source": [
    "# Risk Framework\n",
    "\n",
    "Generally, we can categorize between systematic and unsystematic risk. Systematic risk generally refers to events affecting the overall market, whereas unsystematic risk refers to our implemented strategy.\n",
    "\n",
    "### Systematic Risk\n",
    "\n",
    "When it comes to systematic risk, or market risk, we cannot reduce this risk by diversifying our portfolio. Given that our strategy is market-neutral, the risk is somewhat reduced as in the case of the overall market breakdown, we would still be hedged on the downside. \n",
    "\n",
    "One way to measure said risk is by leveraging the Value at Risk (VaR) statistic, which calculates the maximum potential loss a portfolio could experience within a given time frame.\n"
   ]
  },
  {
   "cell_type": "code",
   "execution_count": 2,
   "metadata": {},
   "outputs": [
    {
     "name": "stdout",
     "output_type": "stream",
     "text": [
      "The VaR on a daily basis for our strategy is $1191.96 with a 99% confidence\n"
     ]
    }
   ],
   "source": [
    "import pandas as pd\n",
    "import numpy as np\n",
    "from scipy.stats import norm\n",
    "\n",
    "df = pd.read_csv(\"returns.csv\")\n",
    "df_daily = df.groupby(pd.to_datetime(df[\"date\"]).dt.floor(\"d\"))[\"total_post_fees\"].sum()\n",
    "# 100,000 USD portfolio\n",
    "value = 100000\n",
    "mu = np.mean(df_daily)\n",
    "sigma = np.std(df_daily)\n",
    "alpha = norm.ppf(1-0.99, mu, sigma)\n",
    "\n",
    "print(f\"The VaR on a daily basis for our strategy is ${value-value*(alpha+1):2.2f} with a 99% confidence\")"
   ]
  },
  {
   "cell_type": "markdown",
   "metadata": {},
   "source": [
    "\n",
    "### Unsystematic Risk\n",
    "\n",
    "Unsystematic risk refers to the risks directly associated with the sub-sector or assets at hand. In our case, these would be in direct relationship to our pair-trading strategy."
   ]
  },
  {
   "cell_type": "markdown",
   "metadata": {},
   "source": [
    "#### Co-Integration/Correlation Breakdown\n",
    "\n",
    "The data in our sample is very limited and it is therefore difficult to assess the reliability of our measures. One possible way to mitigate this risk is by monitoring the spread and exit the positions when our z-score crosses 2. Similarly, one could have a larger \"bucket\" of assets to short/long where it is less likely that the correlation would break as quickly/easily."
   ]
  },
  {
   "cell_type": "markdown",
   "metadata": {},
   "source": [
    "## Live Monitoring (Risk Engine)\n",
    "\n",
    "The following part describes how a real time risk engine could be implemented for a given strategy.\n",
    "\n",
    "## Metrics\n",
    "\n",
    "#### VaR\n",
    "\n",
    "As described above, VaR can be calculated taking the returns into account. One can make the aggregation on various time periods and consistently update this number as new data comes in (when period cut-offs happen).\n",
    "\n",
    "#### MMR\n",
    "\n",
    "Depending on the exchange (in our case Hyperliquid), one would need to consistently monitor the margin requirements. This can become somewhat complex if we have many sub-accounts. In the case of Hyperliquid, the maintenance margin is between 1% and 16.7%. Therefore, if any of the sub-accounts come close, we should be alerted.\n",
    "\n",
    "| Description      | Limit |\n",
    "| ----------- | ----------- |\n",
    "| MMR within 40% of liquidation     | Alert level 3 (informational)  |\n",
    "| MMR within 30% of liquidation  | Alert Level 2 (medium)       |\n",
    "| MMR within 20% of liquidation   | Alert level 1 (critical) |\n",
    "\n",
    "#### Risk Limits\n",
    "\n",
    "Ideally, we should also stay within limits as defined via our risk framework. One could be as detailed as needed, e.g., having DeFi vs CeFi limits, counterparty limits as well as limits for specific assets. Given that we are currently focusing on DeFi, we will not take CeFi limits into consideration. Instead, we can focus on couterparty limits, asset exposure limits as well as strategy-specific limits, e.g., trend-following, mean-reversion, or, as we have here, pair-trading.\n",
    "\n",
    "* Counterparty Limit: There will be a counterparty limit for the exchange that we are trading on. It is imperative to spread assets across exchanges where possible so that in case of unforeseen events, one would not lose the whole portfolio value. \n",
    "\n",
    "* Strategy Limit: Generally speaking, since we are always long an asset and short another one at the same time, the limits for that specific strategy could be higher when comparing to others where we do not have a direct hedge. \n",
    "\n",
    "* Asset Limit: We should also have limits for the respective assets after they have undergone a review. Since we are not always short a particular asset as we are either long/short the spread, there will be instances where we are potentially longing a \"bad\" asset. In our example this is not the case but there are instances where we could set up a pair trade with a currency that is for example heavily controlled/could be manipulated as it has happened over the summer (TRB for example). While one cannot completely eliminate this risk, one can at least review the assets at hand and also monitor when large on-chain deposits onto exchanges happen. This would mitigate the risk of potential funding rate fluctuations/correlation breakdowns in the case of manipulations.\n",
    "\n",
    "For our case, we could have something along these limits and alert:\n",
    "\n",
    "| Description      | Limit |\n",
    "| ----------- | ----------- |\n",
    "| Limit Strat (tag: pair-trade)      | 30%       |\n",
    "| Limit Asset (SOL)   | 20%        |\n",
    "| Limit Asset (BTC)   | 20%        |\n",
    "| Limit Counterparty (Hyperliquid)   | 20%        |\n",
    "\n",
    "\n"
   ]
  }
 ],
 "metadata": {
  "kernelspec": {
   "display_name": ".venv",
   "language": "python",
   "name": "python3"
  },
  "language_info": {
   "codemirror_mode": {
    "name": "ipython",
    "version": 3
   },
   "file_extension": ".py",
   "mimetype": "text/x-python",
   "name": "python",
   "nbconvert_exporter": "python",
   "pygments_lexer": "ipython3",
   "version": "3.11.5"
  }
 },
 "nbformat": 4,
 "nbformat_minor": 2
}
